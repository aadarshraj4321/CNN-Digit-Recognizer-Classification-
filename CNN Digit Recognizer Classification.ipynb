{
 "cells": [
  {
   "cell_type": "code",
   "execution_count": 204,
   "metadata": {},
   "outputs": [],
   "source": [
    "## Downlaod Data From Kaggle\n",
    "# link = \"https://www.kaggle.com/c/digit-recognizer/data\""
   ]
  },
  {
   "cell_type": "code",
   "execution_count": 174,
   "metadata": {},
   "outputs": [],
   "source": [
    "import tensorflow as tf\n",
    "from tensorflow import keras\n",
    "import pandas as pd\n",
    "import numpy as np\n",
    "import matplotlib.pyplot as plt\n",
    "import seaborn as sns\n",
    "from sklearn.model_selection import train_test_split\n",
    "\n",
    "%matplotlib inline\n",
    "plt.style.use(\"ggplot\")"
   ]
  },
  {
   "cell_type": "code",
   "execution_count": 175,
   "metadata": {},
   "outputs": [],
   "source": [
    "df_train = pd.read_csv(\"train.csv\")\n",
    "df_test = pd.read_csv(\"test.csv\")"
   ]
  },
  {
   "cell_type": "code",
   "execution_count": 176,
   "metadata": {},
   "outputs": [
    {
     "data": {
      "text/html": [
       "<div>\n",
       "<style scoped>\n",
       "    .dataframe tbody tr th:only-of-type {\n",
       "        vertical-align: middle;\n",
       "    }\n",
       "\n",
       "    .dataframe tbody tr th {\n",
       "        vertical-align: top;\n",
       "    }\n",
       "\n",
       "    .dataframe thead th {\n",
       "        text-align: right;\n",
       "    }\n",
       "</style>\n",
       "<table border=\"1\" class=\"dataframe\">\n",
       "  <thead>\n",
       "    <tr style=\"text-align: right;\">\n",
       "      <th></th>\n",
       "      <th>label</th>\n",
       "      <th>pixel0</th>\n",
       "      <th>pixel1</th>\n",
       "      <th>pixel2</th>\n",
       "      <th>pixel3</th>\n",
       "      <th>pixel4</th>\n",
       "      <th>pixel5</th>\n",
       "      <th>pixel6</th>\n",
       "      <th>pixel7</th>\n",
       "      <th>pixel8</th>\n",
       "      <th>...</th>\n",
       "      <th>pixel774</th>\n",
       "      <th>pixel775</th>\n",
       "      <th>pixel776</th>\n",
       "      <th>pixel777</th>\n",
       "      <th>pixel778</th>\n",
       "      <th>pixel779</th>\n",
       "      <th>pixel780</th>\n",
       "      <th>pixel781</th>\n",
       "      <th>pixel782</th>\n",
       "      <th>pixel783</th>\n",
       "    </tr>\n",
       "  </thead>\n",
       "  <tbody>\n",
       "    <tr>\n",
       "      <th>0</th>\n",
       "      <td>1</td>\n",
       "      <td>0</td>\n",
       "      <td>0</td>\n",
       "      <td>0</td>\n",
       "      <td>0</td>\n",
       "      <td>0</td>\n",
       "      <td>0</td>\n",
       "      <td>0</td>\n",
       "      <td>0</td>\n",
       "      <td>0</td>\n",
       "      <td>...</td>\n",
       "      <td>0</td>\n",
       "      <td>0</td>\n",
       "      <td>0</td>\n",
       "      <td>0</td>\n",
       "      <td>0</td>\n",
       "      <td>0</td>\n",
       "      <td>0</td>\n",
       "      <td>0</td>\n",
       "      <td>0</td>\n",
       "      <td>0</td>\n",
       "    </tr>\n",
       "    <tr>\n",
       "      <th>1</th>\n",
       "      <td>0</td>\n",
       "      <td>0</td>\n",
       "      <td>0</td>\n",
       "      <td>0</td>\n",
       "      <td>0</td>\n",
       "      <td>0</td>\n",
       "      <td>0</td>\n",
       "      <td>0</td>\n",
       "      <td>0</td>\n",
       "      <td>0</td>\n",
       "      <td>...</td>\n",
       "      <td>0</td>\n",
       "      <td>0</td>\n",
       "      <td>0</td>\n",
       "      <td>0</td>\n",
       "      <td>0</td>\n",
       "      <td>0</td>\n",
       "      <td>0</td>\n",
       "      <td>0</td>\n",
       "      <td>0</td>\n",
       "      <td>0</td>\n",
       "    </tr>\n",
       "    <tr>\n",
       "      <th>2</th>\n",
       "      <td>1</td>\n",
       "      <td>0</td>\n",
       "      <td>0</td>\n",
       "      <td>0</td>\n",
       "      <td>0</td>\n",
       "      <td>0</td>\n",
       "      <td>0</td>\n",
       "      <td>0</td>\n",
       "      <td>0</td>\n",
       "      <td>0</td>\n",
       "      <td>...</td>\n",
       "      <td>0</td>\n",
       "      <td>0</td>\n",
       "      <td>0</td>\n",
       "      <td>0</td>\n",
       "      <td>0</td>\n",
       "      <td>0</td>\n",
       "      <td>0</td>\n",
       "      <td>0</td>\n",
       "      <td>0</td>\n",
       "      <td>0</td>\n",
       "    </tr>\n",
       "    <tr>\n",
       "      <th>3</th>\n",
       "      <td>4</td>\n",
       "      <td>0</td>\n",
       "      <td>0</td>\n",
       "      <td>0</td>\n",
       "      <td>0</td>\n",
       "      <td>0</td>\n",
       "      <td>0</td>\n",
       "      <td>0</td>\n",
       "      <td>0</td>\n",
       "      <td>0</td>\n",
       "      <td>...</td>\n",
       "      <td>0</td>\n",
       "      <td>0</td>\n",
       "      <td>0</td>\n",
       "      <td>0</td>\n",
       "      <td>0</td>\n",
       "      <td>0</td>\n",
       "      <td>0</td>\n",
       "      <td>0</td>\n",
       "      <td>0</td>\n",
       "      <td>0</td>\n",
       "    </tr>\n",
       "    <tr>\n",
       "      <th>4</th>\n",
       "      <td>0</td>\n",
       "      <td>0</td>\n",
       "      <td>0</td>\n",
       "      <td>0</td>\n",
       "      <td>0</td>\n",
       "      <td>0</td>\n",
       "      <td>0</td>\n",
       "      <td>0</td>\n",
       "      <td>0</td>\n",
       "      <td>0</td>\n",
       "      <td>...</td>\n",
       "      <td>0</td>\n",
       "      <td>0</td>\n",
       "      <td>0</td>\n",
       "      <td>0</td>\n",
       "      <td>0</td>\n",
       "      <td>0</td>\n",
       "      <td>0</td>\n",
       "      <td>0</td>\n",
       "      <td>0</td>\n",
       "      <td>0</td>\n",
       "    </tr>\n",
       "  </tbody>\n",
       "</table>\n",
       "<p>5 rows × 785 columns</p>\n",
       "</div>"
      ],
      "text/plain": [
       "   label  pixel0  pixel1  pixel2  pixel3  pixel4  pixel5  pixel6  pixel7  \\\n",
       "0      1       0       0       0       0       0       0       0       0   \n",
       "1      0       0       0       0       0       0       0       0       0   \n",
       "2      1       0       0       0       0       0       0       0       0   \n",
       "3      4       0       0       0       0       0       0       0       0   \n",
       "4      0       0       0       0       0       0       0       0       0   \n",
       "\n",
       "   pixel8  ...  pixel774  pixel775  pixel776  pixel777  pixel778  pixel779  \\\n",
       "0       0  ...         0         0         0         0         0         0   \n",
       "1       0  ...         0         0         0         0         0         0   \n",
       "2       0  ...         0         0         0         0         0         0   \n",
       "3       0  ...         0         0         0         0         0         0   \n",
       "4       0  ...         0         0         0         0         0         0   \n",
       "\n",
       "   pixel780  pixel781  pixel782  pixel783  \n",
       "0         0         0         0         0  \n",
       "1         0         0         0         0  \n",
       "2         0         0         0         0  \n",
       "3         0         0         0         0  \n",
       "4         0         0         0         0  \n",
       "\n",
       "[5 rows x 785 columns]"
      ]
     },
     "execution_count": 176,
     "metadata": {},
     "output_type": "execute_result"
    }
   ],
   "source": [
    "df_train.head()"
   ]
  },
  {
   "cell_type": "code",
   "execution_count": 177,
   "metadata": {},
   "outputs": [
    {
     "name": "stdout",
     "output_type": "stream",
     "text": [
      "(42000, 785)\n",
      "(28000, 784)\n"
     ]
    }
   ],
   "source": [
    "print(df_train.shape)\n",
    "print(df_test.shape)"
   ]
  },
  {
   "cell_type": "code",
   "execution_count": 178,
   "metadata": {},
   "outputs": [
    {
     "name": "stderr",
     "output_type": "stream",
     "text": [
      "C:\\Users\\raada\\Anaconda3\\lib\\site-packages\\seaborn\\_decorators.py:43: FutureWarning: Pass the following variable as a keyword arg: x. From version 0.12, the only valid positional argument will be `data`, and passing other arguments without an explicit keyword will result in an error or misinterpretation.\n",
      "  FutureWarning\n"
     ]
    },
    {
     "data": {
      "image/png": "[encoded data removed]",
      "text/plain": [
       "<Figure size 720x360 with 1 Axes>"
      ]
     },
     "metadata": {},
     "output_type": "display_data"
    }
   ],
   "source": [
    "plt.figure(figsize=(10,5))\n",
    "sns.countplot(df_train[\"label\"])\n",
    "plt.show()"
   ]
  },
  {
   "cell_type": "code",
   "execution_count": 179,
   "metadata": {},
   "outputs": [],
   "source": [
    "X = df_train.iloc[:,1:]\n",
    "y = df_train.iloc[:,:1]"
   ]
  },
  {
   "cell_type": "code",
   "execution_count": 180,
   "metadata": {},
   "outputs": [
    {
     "name": "stdout",
     "output_type": "stream",
     "text": [
      "(42000, 784)\n",
      "(42000, 1)\n"
     ]
    }
   ],
   "source": [
    "print(X.shape)\n",
    "print(y.shape)"
   ]
  },
  {
   "cell_type": "code",
   "execution_count": 181,
   "metadata": {},
   "outputs": [],
   "source": [
    "X = X / 255.0\n",
    "df_test = df_test / 255.0"
   ]
  },
  {
   "cell_type": "code",
   "execution_count": 182,
   "metadata": {},
   "outputs": [
    {
     "data": {
      "text/html": [
       "<div>\n",
       "<style scoped>\n",
       "    .dataframe tbody tr th:only-of-type {\n",
       "        vertical-align: middle;\n",
       "    }\n",
       "\n",
       "    .dataframe tbody tr th {\n",
       "        vertical-align: top;\n",
       "    }\n",
       "\n",
       "    .dataframe thead th {\n",
       "        text-align: right;\n",
       "    }\n",
       "</style>\n",
       "<table border=\"1\" class=\"dataframe\">\n",
       "  <thead>\n",
       "    <tr style=\"text-align: right;\">\n",
       "      <th></th>\n",
       "      <th>pixel0</th>\n",
       "      <th>pixel1</th>\n",
       "      <th>pixel2</th>\n",
       "      <th>pixel3</th>\n",
       "      <th>pixel4</th>\n",
       "      <th>pixel5</th>\n",
       "      <th>pixel6</th>\n",
       "      <th>pixel7</th>\n",
       "      <th>pixel8</th>\n",
       "      <th>pixel9</th>\n",
       "      <th>...</th>\n",
       "      <th>pixel774</th>\n",
       "      <th>pixel775</th>\n",
       "      <th>pixel776</th>\n",
       "      <th>pixel777</th>\n",
       "      <th>pixel778</th>\n",
       "      <th>pixel779</th>\n",
       "      <th>pixel780</th>\n",
       "      <th>pixel781</th>\n",
       "      <th>pixel782</th>\n",
       "      <th>pixel783</th>\n",
       "    </tr>\n",
       "  </thead>\n",
       "  <tbody>\n",
       "    <tr>\n",
       "      <th>0</th>\n",
       "      <td>0.0</td>\n",
       "      <td>0.0</td>\n",
       "      <td>0.0</td>\n",
       "      <td>0.0</td>\n",
       "      <td>0.0</td>\n",
       "      <td>0.0</td>\n",
       "      <td>0.0</td>\n",
       "      <td>0.0</td>\n",
       "      <td>0.0</td>\n",
       "      <td>0.0</td>\n",
       "      <td>...</td>\n",
       "      <td>0.0</td>\n",
       "      <td>0.0</td>\n",
       "      <td>0.0</td>\n",
       "      <td>0.0</td>\n",
       "      <td>0.0</td>\n",
       "      <td>0.0</td>\n",
       "      <td>0.0</td>\n",
       "      <td>0.0</td>\n",
       "      <td>0.0</td>\n",
       "      <td>0.0</td>\n",
       "    </tr>\n",
       "    <tr>\n",
       "      <th>1</th>\n",
       "      <td>0.0</td>\n",
       "      <td>0.0</td>\n",
       "      <td>0.0</td>\n",
       "      <td>0.0</td>\n",
       "      <td>0.0</td>\n",
       "      <td>0.0</td>\n",
       "      <td>0.0</td>\n",
       "      <td>0.0</td>\n",
       "      <td>0.0</td>\n",
       "      <td>0.0</td>\n",
       "      <td>...</td>\n",
       "      <td>0.0</td>\n",
       "      <td>0.0</td>\n",
       "      <td>0.0</td>\n",
       "      <td>0.0</td>\n",
       "      <td>0.0</td>\n",
       "      <td>0.0</td>\n",
       "      <td>0.0</td>\n",
       "      <td>0.0</td>\n",
       "      <td>0.0</td>\n",
       "      <td>0.0</td>\n",
       "    </tr>\n",
       "  </tbody>\n",
       "</table>\n",
       "<p>2 rows × 784 columns</p>\n",
       "</div>"
      ],
      "text/plain": [
       "   pixel0  pixel1  pixel2  pixel3  pixel4  pixel5  pixel6  pixel7  pixel8  \\\n",
       "0     0.0     0.0     0.0     0.0     0.0     0.0     0.0     0.0     0.0   \n",
       "1     0.0     0.0     0.0     0.0     0.0     0.0     0.0     0.0     0.0   \n",
       "\n",
       "   pixel9  ...  pixel774  pixel775  pixel776  pixel777  pixel778  pixel779  \\\n",
       "0     0.0  ...       0.0       0.0       0.0       0.0       0.0       0.0   \n",
       "1     0.0  ...       0.0       0.0       0.0       0.0       0.0       0.0   \n",
       "\n",
       "   pixel780  pixel781  pixel782  pixel783  \n",
       "0       0.0       0.0       0.0       0.0  \n",
       "1       0.0       0.0       0.0       0.0  \n",
       "\n",
       "[2 rows x 784 columns]"
      ]
     },
     "execution_count": 182,
     "metadata": {},
     "output_type": "execute_result"
    }
   ],
   "source": [
    "X.head(2)"
   ]
  },
  {
   "cell_type": "code",
   "execution_count": 183,
   "metadata": {},
   "outputs": [],
   "source": [
    "## Reshape The Data\n",
    "X = X.values.reshape(-1,28,28,1)\n",
    "df_test = df_test.values.reshape(-1,28,28,1)"
   ]
  },
  {
   "cell_type": "code",
   "execution_count": 184,
   "metadata": {},
   "outputs": [
    {
     "data": {
      "image/png": "[encoded data removed]",
      "text/plain": [
       "<Figure size 432x288 with 1 Axes>"
      ]
     },
     "metadata": {},
     "output_type": "display_data"
    },
    {
     "data": {
      "image/png": "[encoded data removed]",
      "text/plain": [
       "<Figure size 432x288 with 1 Axes>"
      ]
     },
     "metadata": {},
     "output_type": "display_data"
    },
    {
     "data": {
      "image/png": "[encoded data removed]",
      "text/plain": [
       "<Figure size 432x288 with 1 Axes>"
      ]
     },
     "metadata": {},
     "output_type": "display_data"
    }
   ],
   "source": [
    "## plot some images\n",
    "for i in range(3):\n",
    "    plt.imshow(X[i])\n",
    "    plt.show()"
   ]
  },
  {
   "cell_type": "code",
   "execution_count": 185,
   "metadata": {},
   "outputs": [
    {
     "data": {
      "text/html": [
       "<div>\n",
       "<style scoped>\n",
       "    .dataframe tbody tr th:only-of-type {\n",
       "        vertical-align: middle;\n",
       "    }\n",
       "\n",
       "    .dataframe tbody tr th {\n",
       "        vertical-align: top;\n",
       "    }\n",
       "\n",
       "    .dataframe thead th {\n",
       "        text-align: right;\n",
       "    }\n",
       "</style>\n",
       "<table border=\"1\" class=\"dataframe\">\n",
       "  <thead>\n",
       "    <tr style=\"text-align: right;\">\n",
       "      <th></th>\n",
       "      <th>label</th>\n",
       "    </tr>\n",
       "  </thead>\n",
       "  <tbody>\n",
       "    <tr>\n",
       "      <th>0</th>\n",
       "      <td>1</td>\n",
       "    </tr>\n",
       "    <tr>\n",
       "      <th>1</th>\n",
       "      <td>0</td>\n",
       "    </tr>\n",
       "    <tr>\n",
       "      <th>2</th>\n",
       "      <td>1</td>\n",
       "    </tr>\n",
       "    <tr>\n",
       "      <th>3</th>\n",
       "      <td>4</td>\n",
       "    </tr>\n",
       "    <tr>\n",
       "      <th>4</th>\n",
       "      <td>0</td>\n",
       "    </tr>\n",
       "  </tbody>\n",
       "</table>\n",
       "</div>"
      ],
      "text/plain": [
       "   label\n",
       "0      1\n",
       "1      0\n",
       "2      1\n",
       "3      4\n",
       "4      0"
      ]
     },
     "execution_count": 185,
     "metadata": {},
     "output_type": "execute_result"
    }
   ],
   "source": [
    "y.head()"
   ]
  },
  {
   "cell_type": "code",
   "execution_count": 186,
   "metadata": {},
   "outputs": [
    {
     "data": {
      "text/plain": [
       "array([[0., 1., 0., ..., 0., 0., 0.],\n",
       "       [1., 0., 0., ..., 0., 0., 0.],\n",
       "       [0., 1., 0., ..., 0., 0., 0.],\n",
       "       ...,\n",
       "       [0., 0., 0., ..., 1., 0., 0.],\n",
       "       [0., 0., 0., ..., 0., 0., 0.],\n",
       "       [0., 0., 0., ..., 0., 0., 1.]], dtype=float32)"
      ]
     },
     "execution_count": 186,
     "metadata": {},
     "output_type": "execute_result"
    }
   ],
   "source": [
    "y = keras.utils.to_categorical(y,num_classes=10)\n",
    "y"
   ]
  },
  {
   "cell_type": "code",
   "execution_count": 187,
   "metadata": {},
   "outputs": [],
   "source": [
    "## Split The Data into X_train, X_test, y_train, y_test\n",
    "X_train,X_test,y_train,y_test = train_test_split(X,y,test_size=0.1)"
   ]
  },
  {
   "cell_type": "code",
   "execution_count": 188,
   "metadata": {},
   "outputs": [
    {
     "name": "stdout",
     "output_type": "stream",
     "text": [
      "X_train.shape : (37800, 28, 28, 1)\n",
      "X_test.shape : (4200, 28, 28, 1)\n",
      "y_train.shape : (37800, 10)\n",
      "y_test.shape : (4200, 10)\n"
     ]
    }
   ],
   "source": [
    "print(f\"X_train.shape : {X_train.shape}\")\n",
    "print(f\"X_test.shape : {X_test.shape}\")\n",
    "print(f\"y_train.shape : {y_train.shape}\")\n",
    "print(f\"y_test.shape : {y_test.shape}\")"
   ]
  },
  {
   "cell_type": "markdown",
   "metadata": {},
   "source": [
    "## Define The Model"
   ]
  },
  {
   "cell_type": "code",
   "execution_count": 189,
   "metadata": {},
   "outputs": [],
   "source": [
    "model = keras.Sequential([\n",
    "    keras.layers.Conv2D(32,(3,3),input_shape=(28,28,1)),\n",
    "    keras.layers.MaxPooling2D(2,2),\n",
    "    \n",
    "    keras.layers.Conv2D(64,(3,3),activation=\"relu\"),\n",
    "    keras.layers.MaxPooling2D(2,2),\n",
    "    \n",
    "    keras.layers.Conv2D(64,(3,3),activation=\"relu\"),\n",
    "    keras.layers.MaxPooling2D(2,2),\n",
    "    \n",
    "    keras.layers.Dropout(0.25),\n",
    "    \n",
    "    keras.layers.Flatten(),\n",
    "    keras.layers.Dense(128,activation=\"relu\"),\n",
    "    keras.layers.Dropout(0.5),\n",
    "    keras.layers.Dense(10,activation=\"softmax\")\n",
    "])"
   ]
  },
  {
   "cell_type": "code",
   "execution_count": 190,
   "metadata": {},
   "outputs": [],
   "source": [
    "model.compile(optimizer=\"adam\",loss=\"categorical_crossentropy\",metrics=[\"accuracy\"])"
   ]
  },
  {
   "cell_type": "code",
   "execution_count": 191,
   "metadata": {},
   "outputs": [
    {
     "name": "stdout",
     "output_type": "stream",
     "text": [
      "Train on 37800 samples, validate on 4200 samples\n",
      "Epoch 1/100\n",
      "37800/37800 [==============================] - 14s 371us/sample - loss: 0.4648 - accuracy: 0.8547 - val_loss: 0.0993 - val_accuracy: 0.9714\n",
      "Epoch 2/100\n",
      "37800/37800 [==============================] - 14s 361us/sample - loss: 0.1646 - accuracy: 0.9540 - val_loss: 0.0807 - val_accuracy: 0.9762\n",
      "Epoch 3/100\n",
      "37800/37800 [==============================] - 14s 358us/sample - loss: 0.1286 - accuracy: 0.9634 - val_loss: 0.0675 - val_accuracy: 0.9833\n",
      "Epoch 4/100\n",
      "37800/37800 [==============================] - 14s 361us/sample - loss: 0.1019 - accuracy: 0.9708 - val_loss: 0.0506 - val_accuracy: 0.9876\n",
      "Epoch 5/100\n",
      "37800/37800 [==============================] - 14s 361us/sample - loss: 0.0892 - accuracy: 0.9741 - val_loss: 0.0688 - val_accuracy: 0.9814\n",
      "Epoch 6/100\n",
      "37800/37800 [==============================] - 17s 457us/sample - loss: 0.0810 - accuracy: 0.9763 - val_loss: 0.0519 - val_accuracy: 0.9852\n",
      "Epoch 7/100\n",
      "37800/37800 [==============================] - 21s 562us/sample - loss: 0.0693 - accuracy: 0.9795 - val_loss: 0.0610 - val_accuracy: 0.9831\n",
      "Epoch 8/100\n",
      "37800/37800 [==============================] - 24s 635us/sample - loss: 0.0664 - accuracy: 0.9804 - val_loss: 0.0509 - val_accuracy: 0.9879\n",
      "Epoch 9/100\n",
      "37800/37800 [==============================] - 24s 627us/sample - loss: 0.0551 - accuracy: 0.9840 - val_loss: 0.0613 - val_accuracy: 0.9826\n",
      "Epoch 10/100\n",
      "37800/37800 [==============================] - 22s 595us/sample - loss: 0.0567 - accuracy: 0.9824 - val_loss: 0.0611 - val_accuracy: 0.9821\n",
      "Epoch 11/100\n",
      "37800/37800 [==============================] - 23s 596us/sample - loss: 0.0499 - accuracy: 0.9850 - val_loss: 0.0565 - val_accuracy: 0.9845\n",
      "Epoch 12/100\n",
      "37800/37800 [==============================] - 22s 590us/sample - loss: 0.0483 - accuracy: 0.9858 - val_loss: 0.0599 - val_accuracy: 0.9838\n",
      "Epoch 13/100\n",
      "37800/37800 [==============================] - 22s 590us/sample - loss: 0.0453 - accuracy: 0.9864 - val_loss: 0.0696 - val_accuracy: 0.9795\n",
      "Epoch 14/100\n",
      "37800/37800 [==============================] - 22s 591us/sample - loss: 0.0421 - accuracy: 0.9876 - val_loss: 0.0592 - val_accuracy: 0.9850\n",
      "Epoch 15/100\n",
      "37800/37800 [==============================] - 20s 533us/sample - loss: 0.0406 - accuracy: 0.9878 - val_loss: 0.0601 - val_accuracy: 0.9864\n",
      "Epoch 16/100\n",
      "37800/37800 [==============================] - 16s 417us/sample - loss: 0.0361 - accuracy: 0.9892 - val_loss: 0.0591 - val_accuracy: 0.9855\n",
      "Epoch 17/100\n",
      "37800/37800 [==============================] - 16s 418us/sample - loss: 0.0380 - accuracy: 0.9895 - val_loss: 0.0592 - val_accuracy: 0.9843\n",
      "Epoch 18/100\n",
      "37800/37800 [==============================] - 20s 522us/sample - loss: 0.0376 - accuracy: 0.9882 - val_loss: 0.0675 - val_accuracy: 0.9848\n",
      "Epoch 19/100\n",
      "37800/37800 [==============================] - 16s 424us/sample - loss: 0.0352 - accuracy: 0.9889 - val_loss: 0.0529 - val_accuracy: 0.9864\n",
      "Epoch 20/100\n",
      "37800/37800 [==============================] - 17s 451us/sample - loss: 0.0317 - accuracy: 0.9900 - val_loss: 0.0568 - val_accuracy: 0.9867\n",
      "Epoch 21/100\n",
      "37800/37800 [==============================] - 15s 401us/sample - loss: 0.0329 - accuracy: 0.9902 - val_loss: 0.0615 - val_accuracy: 0.9857\n",
      "Epoch 22/100\n",
      "37800/37800 [==============================] - 15s 395us/sample - loss: 0.0330 - accuracy: 0.9905 - val_loss: 0.0670 - val_accuracy: 0.9860\n",
      "Epoch 23/100\n",
      "37800/37800 [==============================] - 15s 397us/sample - loss: 0.0292 - accuracy: 0.9913 - val_loss: 0.0683 - val_accuracy: 0.9860\n",
      "Epoch 24/100\n",
      "37800/37800 [==============================] - 15s 395us/sample - loss: 0.0296 - accuracy: 0.9906 - val_loss: 0.0615 - val_accuracy: 0.9874\n",
      "Epoch 25/100\n",
      "37800/37800 [==============================] - 15s 397us/sample - loss: 0.0273 - accuracy: 0.9920 - val_loss: 0.0795 - val_accuracy: 0.9845\n",
      "Epoch 26/100\n",
      "37800/37800 [==============================] - 15s 399us/sample - loss: 0.0276 - accuracy: 0.9920 - val_loss: 0.0663 - val_accuracy: 0.9860\n",
      "Epoch 27/100\n",
      "37800/37800 [==============================] - 15s 407us/sample - loss: 0.0302 - accuracy: 0.9913 - val_loss: 0.0588 - val_accuracy: 0.9871\n",
      "Epoch 28/100\n",
      "37800/37800 [==============================] - 15s 403us/sample - loss: 0.0263 - accuracy: 0.9925 - val_loss: 0.0637 - val_accuracy: 0.9864\n",
      "Epoch 29/100\n",
      "37800/37800 [==============================] - 15s 404us/sample - loss: 0.0235 - accuracy: 0.9933 - val_loss: 0.0684 - val_accuracy: 0.9864\n",
      "Epoch 30/100\n",
      "37800/37800 [==============================] - 16s 411us/sample - loss: 0.0281 - accuracy: 0.9918 - val_loss: 0.0975 - val_accuracy: 0.9838\n",
      "Epoch 31/100\n",
      "37800/37800 [==============================] - 16s 430us/sample - loss: 0.0250 - accuracy: 0.9926 - val_loss: 0.0735 - val_accuracy: 0.9867\n",
      "Epoch 32/100\n",
      "37800/37800 [==============================] - 16s 436us/sample - loss: 0.0291 - accuracy: 0.9915 - val_loss: 0.0756 - val_accuracy: 0.9848\n",
      "Epoch 33/100\n",
      "37800/37800 [==============================] - 16s 426us/sample - loss: 0.0256 - accuracy: 0.9926 - val_loss: 0.0653 - val_accuracy: 0.9864\n",
      "Epoch 34/100\n",
      "37800/37800 [==============================] - 16s 425us/sample - loss: 0.0233 - accuracy: 0.9932 - val_loss: 0.0715 - val_accuracy: 0.9862\n",
      "Epoch 35/100\n",
      "37800/37800 [==============================] - 16s 426us/sample - loss: 0.0266 - accuracy: 0.9924 - val_loss: 0.0591 - val_accuracy: 0.9876\n",
      "Epoch 36/100\n",
      "37800/37800 [==============================] - 16s 426us/sample - loss: 0.0220 - accuracy: 0.9932 - val_loss: 0.0631 - val_accuracy: 0.9881\n",
      "Epoch 37/100\n",
      "37800/37800 [==============================] - 15s 390us/sample - loss: 0.0248 - accuracy: 0.9924 - val_loss: 0.0773 - val_accuracy: 0.9852\n",
      "Epoch 38/100\n",
      "37800/37800 [==============================] - 14s 383us/sample - loss: 0.0226 - accuracy: 0.9931 - val_loss: 0.0867 - val_accuracy: 0.9860\n",
      "Epoch 39/100\n",
      "37800/37800 [==============================] - 15s 384us/sample - loss: 0.0215 - accuracy: 0.9937 - val_loss: 0.0841 - val_accuracy: 0.9860\n",
      "Epoch 40/100\n",
      "37800/37800 [==============================] - 15s 384us/sample - loss: 0.0218 - accuracy: 0.9939 - val_loss: 0.0750 - val_accuracy: 0.9879\n",
      "Epoch 41/100\n",
      "37800/37800 [==============================] - 15s 385us/sample - loss: 0.0227 - accuracy: 0.9932 - val_loss: 0.0772 - val_accuracy: 0.9852\n",
      "Epoch 42/100\n",
      "37800/37800 [==============================] - 14s 383us/sample - loss: 0.0203 - accuracy: 0.9939 - val_loss: 0.0803 - val_accuracy: 0.9874\n",
      "Epoch 43/100\n",
      "37800/37800 [==============================] - 15s 384us/sample - loss: 0.0221 - accuracy: 0.9939 - val_loss: 0.0742 - val_accuracy: 0.9857\n",
      "Epoch 44/100\n",
      "37800/37800 [==============================] - 14s 383us/sample - loss: 0.0218 - accuracy: 0.9939 - val_loss: 0.0790 - val_accuracy: 0.9879\n",
      "Epoch 45/100\n",
      "37800/37800 [==============================] - 15s 395us/sample - loss: 0.0240 - accuracy: 0.9930 - val_loss: 0.0724 - val_accuracy: 0.9890\n",
      "Epoch 46/100\n",
      "37800/37800 [==============================] - 15s 385us/sample - loss: 0.0200 - accuracy: 0.9940 - val_loss: 0.0598 - val_accuracy: 0.9883\n",
      "Epoch 47/100\n",
      "37800/37800 [==============================] - 15s 391us/sample - loss: 0.0190 - accuracy: 0.9943 - val_loss: 0.0862 - val_accuracy: 0.9840\n",
      "Epoch 48/100\n",
      "37800/37800 [==============================] - 15s 394us/sample - loss: 0.0209 - accuracy: 0.9941 - val_loss: 0.0865 - val_accuracy: 0.9881\n",
      "Epoch 49/100\n",
      "37800/37800 [==============================] - 17s 441us/sample - loss: 0.0238 - accuracy: 0.9932 - val_loss: 0.0891 - val_accuracy: 0.9857\n",
      "Epoch 50/100\n",
      "37800/37800 [==============================] - 17s 462us/sample - loss: 0.0203 - accuracy: 0.9943 - val_loss: 0.1064 - val_accuracy: 0.9879\n",
      "Epoch 51/100\n",
      "37800/37800 [==============================] - 15s 395us/sample - loss: 0.0215 - accuracy: 0.9946 - val_loss: 0.0983 - val_accuracy: 0.9855\n",
      "Epoch 52/100\n",
      "37800/37800 [==============================] - 15s 388us/sample - loss: 0.0208 - accuracy: 0.9945 - val_loss: 0.1013 - val_accuracy: 0.9862\n",
      "Epoch 53/100\n",
      "37800/37800 [==============================] - 15s 390us/sample - loss: 0.0221 - accuracy: 0.9939 - val_loss: 0.0857 - val_accuracy: 0.9855\n",
      "Epoch 54/100\n"
     ]
    },
    {
     "name": "stdout",
     "output_type": "stream",
     "text": [
      "37800/37800 [==============================] - 14s 377us/sample - loss: 0.0190 - accuracy: 0.9942 - val_loss: 0.1009 - val_accuracy: 0.9879\n",
      "Epoch 55/100\n",
      "37800/37800 [==============================] - 14s 379us/sample - loss: 0.0219 - accuracy: 0.9944 - val_loss: 0.0924 - val_accuracy: 0.9860\n",
      "Epoch 56/100\n",
      "37800/37800 [==============================] - 15s 385us/sample - loss: 0.0197 - accuracy: 0.9942 - val_loss: 0.0718 - val_accuracy: 0.9871\n",
      "Epoch 57/100\n",
      "37800/37800 [==============================] - 14s 379us/sample - loss: 0.0187 - accuracy: 0.9950 - val_loss: 0.0803 - val_accuracy: 0.9874\n",
      "Epoch 58/100\n",
      "37800/37800 [==============================] - 14s 379us/sample - loss: 0.0222 - accuracy: 0.9939 - val_loss: 0.0867 - val_accuracy: 0.9867\n",
      "Epoch 59/100\n",
      "37800/37800 [==============================] - 14s 379us/sample - loss: 0.0193 - accuracy: 0.9951 - val_loss: 0.0884 - val_accuracy: 0.9862\n",
      "Epoch 60/100\n",
      "37800/37800 [==============================] - 14s 380us/sample - loss: 0.0211 - accuracy: 0.9938 - val_loss: 0.1038 - val_accuracy: 0.9862\n",
      "Epoch 61/100\n",
      "37800/37800 [==============================] - 15s 385us/sample - loss: 0.0181 - accuracy: 0.9952 - val_loss: 0.0863 - val_accuracy: 0.9895\n",
      "Epoch 62/100\n",
      "37800/37800 [==============================] - 14s 379us/sample - loss: 0.0231 - accuracy: 0.9939 - val_loss: 0.0992 - val_accuracy: 0.9862\n",
      "Epoch 63/100\n",
      "37800/37800 [==============================] - 14s 382us/sample - loss: 0.0190 - accuracy: 0.9950 - val_loss: 0.0693 - val_accuracy: 0.9890\n",
      "Epoch 64/100\n",
      "37800/37800 [==============================] - 14s 381us/sample - loss: 0.0184 - accuracy: 0.9944 - val_loss: 0.1042 - val_accuracy: 0.9869\n",
      "Epoch 65/100\n",
      "37800/37800 [==============================] - 14s 382us/sample - loss: 0.0198 - accuracy: 0.9947 - val_loss: 0.0838 - val_accuracy: 0.9879\n",
      "Epoch 66/100\n",
      "37800/37800 [==============================] - 14s 380us/sample - loss: 0.0187 - accuracy: 0.9954 - val_loss: 0.0890 - val_accuracy: 0.9867\n",
      "Epoch 67/100\n",
      "37800/37800 [==============================] - 15s 384us/sample - loss: 0.0158 - accuracy: 0.9952 - val_loss: 0.1046 - val_accuracy: 0.9869\n",
      "Epoch 68/100\n",
      "37800/37800 [==============================] - 15s 386us/sample - loss: 0.0187 - accuracy: 0.9953 - val_loss: 0.1088 - val_accuracy: 0.9874\n",
      "Epoch 69/100\n",
      "37800/37800 [==============================] - 15s 386us/sample - loss: 0.0182 - accuracy: 0.9957 - val_loss: 0.1067 - val_accuracy: 0.9862\n",
      "Epoch 70/100\n",
      "37800/37800 [==============================] - 15s 389us/sample - loss: 0.0175 - accuracy: 0.9953 - val_loss: 0.1030 - val_accuracy: 0.9852\n",
      "Epoch 71/100\n",
      "37800/37800 [==============================] - 15s 387us/sample - loss: 0.0185 - accuracy: 0.9955 - val_loss: 0.0910 - val_accuracy: 0.9874\n",
      "Epoch 72/100\n",
      "37800/37800 [==============================] - 15s 385us/sample - loss: 0.0190 - accuracy: 0.9946 - val_loss: 0.0981 - val_accuracy: 0.9857\n",
      "Epoch 73/100\n",
      "37800/37800 [==============================] - 14s 383us/sample - loss: 0.0215 - accuracy: 0.9946 - val_loss: 0.0952 - val_accuracy: 0.9879\n",
      "Epoch 74/100\n",
      "37800/37800 [==============================] - 15s 386us/sample - loss: 0.0189 - accuracy: 0.9948 - val_loss: 0.0905 - val_accuracy: 0.9874\n",
      "Epoch 75/100\n",
      "37800/37800 [==============================] - 15s 388us/sample - loss: 0.0168 - accuracy: 0.9955 - val_loss: 0.1056 - val_accuracy: 0.9883\n",
      "Epoch 76/100\n",
      "37800/37800 [==============================] - 15s 385us/sample - loss: 0.0201 - accuracy: 0.9952 - val_loss: 0.1048 - val_accuracy: 0.9864\n",
      "Epoch 77/100\n",
      "37800/37800 [==============================] - 15s 389us/sample - loss: 0.0194 - accuracy: 0.9948 - val_loss: 0.1008 - val_accuracy: 0.9864\n",
      "Epoch 78/100\n",
      "37800/37800 [==============================] - 15s 387us/sample - loss: 0.0172 - accuracy: 0.9954 - val_loss: 0.1002 - val_accuracy: 0.9893\n",
      "Epoch 79/100\n",
      "37800/37800 [==============================] - 15s 386us/sample - loss: 0.0137 - accuracy: 0.9959 - val_loss: 0.1142 - val_accuracy: 0.9888\n",
      "Epoch 80/100\n",
      "37800/37800 [==============================] - 15s 386us/sample - loss: 0.0216 - accuracy: 0.9951 - val_loss: 0.0978 - val_accuracy: 0.9874\n",
      "Epoch 81/100\n",
      "37800/37800 [==============================] - 15s 404us/sample - loss: 0.0178 - accuracy: 0.9953 - val_loss: 0.1100 - val_accuracy: 0.9864\n",
      "Epoch 82/100\n",
      "37800/37800 [==============================] - 15s 390us/sample - loss: 0.0134 - accuracy: 0.9962 - val_loss: 0.1180 - val_accuracy: 0.9857\n",
      "Epoch 83/100\n",
      "37800/37800 [==============================] - 15s 384us/sample - loss: 0.0215 - accuracy: 0.9947 - val_loss: 0.1075 - val_accuracy: 0.9860\n",
      "Epoch 84/100\n",
      "37800/37800 [==============================] - 15s 384us/sample - loss: 0.0107 - accuracy: 0.9973 - val_loss: 0.1162 - val_accuracy: 0.9876\n",
      "Epoch 85/100\n",
      "37800/37800 [==============================] - 15s 385us/sample - loss: 0.0229 - accuracy: 0.9946 - val_loss: 0.1178 - val_accuracy: 0.9862\n",
      "Epoch 86/100\n",
      "37800/37800 [==============================] - 14s 383us/sample - loss: 0.0185 - accuracy: 0.9954 - val_loss: 0.0979 - val_accuracy: 0.9874\n",
      "Epoch 87/100\n",
      "37800/37800 [==============================] - 15s 385us/sample - loss: 0.0207 - accuracy: 0.9949 - val_loss: 0.1027 - val_accuracy: 0.9883\n",
      "Epoch 88/100\n",
      "37800/37800 [==============================] - 15s 392us/sample - loss: 0.0180 - accuracy: 0.9953 - val_loss: 0.1079 - val_accuracy: 0.9869\n",
      "Epoch 89/100\n",
      "37800/37800 [==============================] - 15s 392us/sample - loss: 0.0179 - accuracy: 0.9953 - val_loss: 0.1189 - val_accuracy: 0.9855\n",
      "Epoch 90/100\n",
      "37800/37800 [==============================] - 19s 504us/sample - loss: 0.0143 - accuracy: 0.9965 - val_loss: 0.0923 - val_accuracy: 0.9888\n",
      "Epoch 91/100\n",
      "37800/37800 [==============================] - 19s 496us/sample - loss: 0.0174 - accuracy: 0.9959 - val_loss: 0.1071 - val_accuracy: 0.9890\n",
      "Epoch 92/100\n",
      "37800/37800 [==============================] - 23s 596us/sample - loss: 0.0158 - accuracy: 0.9961 - val_loss: 0.1093 - val_accuracy: 0.9874\n",
      "Epoch 93/100\n",
      "37800/37800 [==============================] - 23s 599us/sample - loss: 0.0212 - accuracy: 0.9945 - val_loss: 0.1095 - val_accuracy: 0.9879\n",
      "Epoch 94/100\n",
      "37800/37800 [==============================] - 21s 565us/sample - loss: 0.0188 - accuracy: 0.9955 - val_loss: 0.0931 - val_accuracy: 0.9888\n",
      "Epoch 95/100\n",
      "37800/37800 [==============================] - 17s 449us/sample - loss: 0.0148 - accuracy: 0.9961 - val_loss: 0.1226 - val_accuracy: 0.9862\n",
      "Epoch 96/100\n",
      "37800/37800 [==============================] - 18s 467us/sample - loss: 0.0178 - accuracy: 0.9956 - val_loss: 0.1120 - val_accuracy: 0.9862\n",
      "Epoch 97/100\n",
      "37800/37800 [==============================] - 15s 385us/sample - loss: 0.0190 - accuracy: 0.9956 - val_loss: 0.0978 - val_accuracy: 0.9871\n",
      "Epoch 98/100\n",
      "37800/37800 [==============================] - 16s 416us/sample - loss: 0.0162 - accuracy: 0.9961 - val_loss: 0.1403 - val_accuracy: 0.9857\n",
      "Epoch 99/100\n",
      "37800/37800 [==============================] - 14s 359us/sample - loss: 0.0157 - accuracy: 0.9961 - val_loss: 0.1246 - val_accuracy: 0.9874\n",
      "Epoch 100/100\n",
      "37800/37800 [==============================] - 14s 383us/sample - loss: 0.0197 - accuracy: 0.9955 - val_loss: 0.1407 - val_accuracy: 0.9857\n"
     ]
    }
   ],
   "source": [
    "best_model = keras.callbacks.ModelCheckpoint(\"best_model.h5\",save_best_only=True)\n",
    "history = model.fit(X_train,y_train,epochs=100,verbose=1,validation_data=(X_test,y_test),callbacks=[best_model])"
   ]
  },
  {
   "cell_type": "code",
   "execution_count": 192,
   "metadata": {},
   "outputs": [
    {
     "data": {
      "image/png": "[encoded data removed]",
      "text/plain": [
       "<Figure size 720x360 with 1 Axes>"
      ]
     },
     "metadata": {},
     "output_type": "display_data"
    },
    {
     "data": {
      "text/plain": [
       "<Figure size 432x288 with 0 Axes>"
      ]
     },
     "metadata": {},
     "output_type": "display_data"
    },
    {
     "data": {
      "image/png": "[encoded data removed]",
      "text/plain": [
       "<Figure size 720x360 with 1 Axes>"
      ]
     },
     "metadata": {},
     "output_type": "display_data"
    }
   ],
   "source": [
    "plt.figure(figsize=(10,5))\n",
    "\n",
    "acc = history.history[\"accuracy\"]\n",
    "val_acc = history.history[\"val_accuracy\"]\n",
    "loss = history.history[\"loss\"]\n",
    "val_loss = history.history[\"val_loss\"]\n",
    "\n",
    "epochs = range(len(acc))\n",
    "\n",
    "plt.plot(epochs,acc,\"r\",label=\"Training Accuracy\")\n",
    "plt.plot(epochs,val_acc,\"b\",label=\"Validation Accuracy\")\n",
    "\n",
    "plt.legend()\n",
    "plt.figure()\n",
    "\n",
    "plt.figure(figsize=(10,5))\n",
    "\n",
    "plt.plot(epochs,loss,\"r\",label=\"Training Loss\")\n",
    "plt.plot(epochs,val_loss,\"b\",label=\"Validation Loss\")\n",
    "\n",
    "plt.legend()\n",
    "plt.show()"
   ]
  },
  {
   "cell_type": "code",
   "execution_count": 193,
   "metadata": {},
   "outputs": [
    {
     "name": "stdout",
     "output_type": "stream",
     "text": [
      "Model: \"sequential_8\"\n",
      "_________________________________________________________________\n",
      "Layer (type)                 Output Shape              Param #   \n",
      "=================================================================\n",
      "conv2d_27 (Conv2D)           (None, 26, 26, 32)        320       \n",
      "_________________________________________________________________\n",
      "max_pooling2d_27 (MaxPooling (None, 13, 13, 32)        0         \n",
      "_________________________________________________________________\n",
      "conv2d_28 (Conv2D)           (None, 11, 11, 64)        18496     \n",
      "_________________________________________________________________\n",
      "max_pooling2d_28 (MaxPooling (None, 5, 5, 64)          0         \n",
      "_________________________________________________________________\n",
      "conv2d_29 (Conv2D)           (None, 3, 3, 64)          36928     \n",
      "_________________________________________________________________\n",
      "max_pooling2d_29 (MaxPooling (None, 1, 1, 64)          0         \n",
      "_________________________________________________________________\n",
      "dropout_4 (Dropout)          (None, 1, 1, 64)          0         \n",
      "_________________________________________________________________\n",
      "flatten_8 (Flatten)          (None, 64)                0         \n",
      "_________________________________________________________________\n",
      "dense_16 (Dense)             (None, 128)               8320      \n",
      "_________________________________________________________________\n",
      "dropout_5 (Dropout)          (None, 128)               0         \n",
      "_________________________________________________________________\n",
      "dense_17 (Dense)             (None, 10)                1290      \n",
      "=================================================================\n",
      "Total params: 65,354\n",
      "Trainable params: 65,354\n",
      "Non-trainable params: 0\n",
      "_________________________________________________________________\n"
     ]
    }
   ],
   "source": [
    "new_model = keras.models.load_model(\"best_model.h5\")\n",
    "new_model.summary()"
   ]
  },
  {
   "cell_type": "code",
   "execution_count": 194,
   "metadata": {},
   "outputs": [],
   "source": [
    "y_pred = new_model.predict(X_test)"
   ]
  },
  {
   "cell_type": "code",
   "execution_count": 195,
   "metadata": {},
   "outputs": [],
   "source": [
    "y_predictions = [np.argmax(x) for x in y_pred]"
   ]
  },
  {
   "cell_type": "code",
   "execution_count": 196,
   "metadata": {},
   "outputs": [
    {
     "name": "stdout",
     "output_type": "stream",
     "text": [
      "9\n"
     ]
    },
    {
     "data": {
      "image/png": "[encoded data removed]",
      "text/plain": [
       "<Figure size 432x288 with 1 Axes>"
      ]
     },
     "metadata": {},
     "output_type": "display_data"
    },
    {
     "name": "stdout",
     "output_type": "stream",
     "text": [
      "1\n"
     ]
    },
    {
     "data": {
      "image/png": "[encoded data removed]",
      "text/plain": [
       "<Figure size 432x288 with 1 Axes>"
      ]
     },
     "metadata": {},
     "output_type": "display_data"
    },
    {
     "name": "stdout",
     "output_type": "stream",
     "text": [
      "3\n"
     ]
    },
    {
     "data": {
      "image/png": "[encoded data removed]",
      "text/plain": [
       "<Figure size 432x288 with 1 Axes>"
      ]
     },
     "metadata": {},
     "output_type": "display_data"
    },
    {
     "name": "stdout",
     "output_type": "stream",
     "text": [
      "7\n"
     ]
    },
    {
     "data": {
      "image/png": "[encoded data removed]",
      "text/plain": [
       "<Figure size 432x288 with 1 Axes>"
      ]
     },
     "metadata": {},
     "output_type": "display_data"
    },
    {
     "name": "stdout",
     "output_type": "stream",
     "text": [
      "7\n"
     ]
    },
    {
     "data": {
      "image/png": "[encoded data removed]",
      "text/plain": [
       "<Figure size 432x288 with 1 Axes>"
      ]
     },
     "metadata": {},
     "output_type": "display_data"
    },
    {
     "name": "stdout",
     "output_type": "stream",
     "text": [
      "9\n"
     ]
    },
    {
     "data": {
      "image/png": "[encoded data removed]",
      "text/plain": [
       "<Figure size 432x288 with 1 Axes>"
      ]
     },
     "metadata": {},
     "output_type": "display_data"
    },
    {
     "name": "stdout",
     "output_type": "stream",
     "text": [
      "8\n"
     ]
    },
    {
     "data": {
      "image/png": "[encoded data removed]",
      "text/plain": [
       "<Figure size 432x288 with 1 Axes>"
      ]
     },
     "metadata": {},
     "output_type": "display_data"
    },
    {
     "name": "stdout",
     "output_type": "stream",
     "text": [
      "2\n"
     ]
    },
    {
     "data": {
      "image/png": "[encoded data removed]",
      "text/plain": [
       "<Figure size 432x288 with 1 Axes>"
      ]
     },
     "metadata": {},
     "output_type": "display_data"
    },
    {
     "name": "stdout",
     "output_type": "stream",
     "text": [
      "1\n"
     ]
    },
    {
     "data": {
      "image/png": "[encoded data removed]",
      "text/plain": [
       "<Figure size 432x288 with 1 Axes>"
      ]
     },
     "metadata": {},
     "output_type": "display_data"
    },
    {
     "name": "stdout",
     "output_type": "stream",
     "text": [
      "7\n"
     ]
    },
    {
     "data": {
      "image/png": "[encoded data removed]",
      "text/plain": [
       "<Figure size 432x288 with 1 Axes>"
      ]
     },
     "metadata": {},
     "output_type": "display_data"
    }
   ],
   "source": [
    "for i in range(10):\n",
    "    print(y_predictions[i])\n",
    "    plt.imshow(X_test[i])\n",
    "    plt.show()"
   ]
  },
  {
   "cell_type": "code",
   "execution_count": 197,
   "metadata": {},
   "outputs": [],
   "source": [
    "## Predict the df_test data for submission"
   ]
  },
  {
   "cell_type": "code",
   "execution_count": 198,
   "metadata": {},
   "outputs": [],
   "source": [
    "y_label = new_model.predict(df_test)"
   ]
  },
  {
   "cell_type": "code",
   "execution_count": 199,
   "metadata": {},
   "outputs": [],
   "source": [
    "y_labels = [np.argmax(x) for x in y_label]"
   ]
  },
  {
   "cell_type": "code",
   "execution_count": 200,
   "metadata": {},
   "outputs": [
    {
     "data": {
      "text/plain": [
       "[2, 0, 9, 9, 3, 7, 0, 3, 0, 3, 5, 7, 4, 0, 4, 3, 3, 1, 9, 0]"
      ]
     },
     "execution_count": 200,
     "metadata": {},
     "output_type": "execute_result"
    }
   ],
   "source": [
    "y_labels[:20]"
   ]
  },
  {
   "cell_type": "code",
   "execution_count": 201,
   "metadata": {},
   "outputs": [],
   "source": [
    "sub_test = pd.DataFrame({\n",
    "    \"ImageId\":range(1,len(y_labels)+1),\n",
    "    \"Label\":y_labels\n",
    "})"
   ]
  },
  {
   "cell_type": "code",
   "execution_count": 202,
   "metadata": {},
   "outputs": [
    {
     "data": {
      "text/html": [
       "<div>\n",
       "<style scoped>\n",
       "    .dataframe tbody tr th:only-of-type {\n",
       "        vertical-align: middle;\n",
       "    }\n",
       "\n",
       "    .dataframe tbody tr th {\n",
       "        vertical-align: top;\n",
       "    }\n",
       "\n",
       "    .dataframe thead th {\n",
       "        text-align: right;\n",
       "    }\n",
       "</style>\n",
       "<table border=\"1\" class=\"dataframe\">\n",
       "  <thead>\n",
       "    <tr style=\"text-align: right;\">\n",
       "      <th></th>\n",
       "      <th>ImageId</th>\n",
       "      <th>Label</th>\n",
       "    </tr>\n",
       "  </thead>\n",
       "  <tbody>\n",
       "    <tr>\n",
       "      <th>0</th>\n",
       "      <td>1</td>\n",
       "      <td>2</td>\n",
       "    </tr>\n",
       "    <tr>\n",
       "      <th>1</th>\n",
       "      <td>2</td>\n",
       "      <td>0</td>\n",
       "    </tr>\n",
       "    <tr>\n",
       "      <th>2</th>\n",
       "      <td>3</td>\n",
       "      <td>9</td>\n",
       "    </tr>\n",
       "    <tr>\n",
       "      <th>3</th>\n",
       "      <td>4</td>\n",
       "      <td>9</td>\n",
       "    </tr>\n",
       "    <tr>\n",
       "      <th>4</th>\n",
       "      <td>5</td>\n",
       "      <td>3</td>\n",
       "    </tr>\n",
       "  </tbody>\n",
       "</table>\n",
       "</div>"
      ],
      "text/plain": [
       "   ImageId  Label\n",
       "0        1      2\n",
       "1        2      0\n",
       "2        3      9\n",
       "3        4      9\n",
       "4        5      3"
      ]
     },
     "execution_count": 202,
     "metadata": {},
     "output_type": "execute_result"
    }
   ],
   "source": [
    "sub_test.head()"
   ]
  },
  {
   "cell_type": "code",
   "execution_count": 203,
   "metadata": {},
   "outputs": [],
   "source": [
    "sub_test.to_csv(\"sub_test.csv\",index=False)"
   ]
  },
  {
   "cell_type": "code",
   "execution_count": null,
   "metadata": {},
   "outputs": [],
   "source": []
  },
  {
   "cell_type": "code",
   "execution_count": null,
   "metadata": {},
   "outputs": [],
   "source": []
  }
 ],
 "metadata": {
  "kernelspec": {
   "display_name": "Python 3",
   "language": "python",
   "name": "python3"
  },
  "language_info": {
   "codemirror_mode": {
    "name": "ipython",
    "version": 3
   },
   "file_extension": ".py",
   "mimetype": "text/x-python",
   "name": "python",
   "nbconvert_exporter": "python",
   "pygments_lexer": "ipython3",
   "version": "3.7.4"
  }
 },
 "nbformat": 4,
 "nbformat_minor": 4
}
